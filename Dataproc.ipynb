{
 "cells": [
  {
   "cell_type": "markdown",
   "id": "inclusive-authentication",
   "metadata": {},
   "source": [
    "## PHYS 105A:  Introduction to Scientific Computing\n",
    "\n",
    "# Data Processing with Python\n",
    "\n",
    "In this assignment, we will use python to process climate data."
   ]
  },
  {
   "cell_type": "code",
   "execution_count": 1,
   "id": "falling-carbon",
   "metadata": {},
   "outputs": [],
   "source": [
    "# Step 1. Import Libraries\n",
    "\n",
    "import numpy as np\n",
    "import pandas as pd\n",
    "\n",
    "from matplotlib import pyplot as plt\n",
    "from scipy.optimize import curve_fit"
   ]
  },
  {
   "cell_type": "code",
   "execution_count": 2,
   "id": "private-benjamin",
   "metadata": {},
   "outputs": [
    {
     "data": {
      "text/plain": [
       "['dt',\n",
       " 'LandAverageTemperature',\n",
       " 'LandAverageTemperatureUncertainty',\n",
       " 'LandMaxTemperature',\n",
       " 'LandMaxTemperatureUncertainty',\n",
       " 'LandMinTemperature',\n",
       " 'LandMinTemperatureUncertainty',\n",
       " 'LandAndOceanAverageTemperature',\n",
       " 'LandAndOceanAverageTemperatureUncertainty']"
      ]
     },
     "execution_count": 2,
     "metadata": {},
     "output_type": "execute_result"
    }
   ],
   "source": [
    "# Step 2. Load data from csv file uisng `pandas`\n",
    "\n",
    "df = ________('GlobalTemperatures.csv')\n",
    "\n",
    "# You may look at the column names by\n",
    "list(df.columns)"
   ]
  },
  {
   "cell_type": "code",
   "execution_count": 3,
   "id": "illegal-williams",
   "metadata": {},
   "outputs": [],
   "source": [
    "# Step 3. Convert the \"dt\" column to datetime format\n",
    "\n",
    "df.dt = ________(df.dt) # what function to call here?"
   ]
  },
  {
   "cell_type": "code",
   "execution_count": 4,
   "id": "sunset-locator",
   "metadata": {},
   "outputs": [
    {
     "data": {
      "text/plain": [
       "[<matplotlib.lines.Line2D at 0x158e0ee20>]"
      ]
     },
     "execution_count": 4,
     "metadata": {},
     "output_type": "execute_result"
    },
    {
     "data": {
      "image/png": "[encoded data removed]",
      "text/plain": [
       "<Figure size 432x288 with 1 Axes>"
      ]
     },
     "metadata": {
      "needs_background": "light"
     },
     "output_type": "display_data"
    }
   ],
   "source": [
    "# Step 4. Plot the different columns\n",
    "\n",
    "________"
   ]
  },
  {
   "cell_type": "code",
   "execution_count": 5,
   "id": "personalized-cooperative",
   "metadata": {},
   "outputs": [
    {
     "data": {
      "text/html": [
       "<div>\n",
       "<style scoped>\n",
       "    .dataframe tbody tr th:only-of-type {\n",
       "        vertical-align: middle;\n",
       "    }\n",
       "\n",
       "    .dataframe tbody tr th {\n",
       "        vertical-align: top;\n",
       "    }\n",
       "\n",
       "    .dataframe thead th {\n",
       "        text-align: right;\n",
       "    }\n",
       "</style>\n",
       "<table border=\"1\" class=\"dataframe\">\n",
       "  <thead>\n",
       "    <tr style=\"text-align: right;\">\n",
       "      <th></th>\n",
       "      <th>LandAverageTemperature</th>\n",
       "      <th>LandAverageTemperatureUncertainty</th>\n",
       "      <th>LandMaxTemperature</th>\n",
       "      <th>LandMaxTemperatureUncertainty</th>\n",
       "      <th>LandMinTemperature</th>\n",
       "      <th>LandMinTemperatureUncertainty</th>\n",
       "      <th>LandAndOceanAverageTemperature</th>\n",
       "      <th>LandAndOceanAverageTemperatureUncertainty</th>\n",
       "    </tr>\n",
       "    <tr>\n",
       "      <th>dt</th>\n",
       "      <th></th>\n",
       "      <th></th>\n",
       "      <th></th>\n",
       "      <th></th>\n",
       "      <th></th>\n",
       "      <th></th>\n",
       "      <th></th>\n",
       "      <th></th>\n",
       "    </tr>\n",
       "  </thead>\n",
       "  <tbody>\n",
       "    <tr>\n",
       "      <th>1750</th>\n",
       "      <td>8.719364</td>\n",
       "      <td>2.637818</td>\n",
       "      <td>NaN</td>\n",
       "      <td>NaN</td>\n",
       "      <td>NaN</td>\n",
       "      <td>NaN</td>\n",
       "      <td>NaN</td>\n",
       "      <td>NaN</td>\n",
       "    </tr>\n",
       "    <tr>\n",
       "      <th>1751</th>\n",
       "      <td>7.976143</td>\n",
       "      <td>2.781143</td>\n",
       "      <td>NaN</td>\n",
       "      <td>NaN</td>\n",
       "      <td>NaN</td>\n",
       "      <td>NaN</td>\n",
       "      <td>NaN</td>\n",
       "      <td>NaN</td>\n",
       "    </tr>\n",
       "    <tr>\n",
       "      <th>1752</th>\n",
       "      <td>5.779833</td>\n",
       "      <td>2.977000</td>\n",
       "      <td>NaN</td>\n",
       "      <td>NaN</td>\n",
       "      <td>NaN</td>\n",
       "      <td>NaN</td>\n",
       "      <td>NaN</td>\n",
       "      <td>NaN</td>\n",
       "    </tr>\n",
       "    <tr>\n",
       "      <th>1753</th>\n",
       "      <td>8.388083</td>\n",
       "      <td>3.176000</td>\n",
       "      <td>NaN</td>\n",
       "      <td>NaN</td>\n",
       "      <td>NaN</td>\n",
       "      <td>NaN</td>\n",
       "      <td>NaN</td>\n",
       "      <td>NaN</td>\n",
       "    </tr>\n",
       "    <tr>\n",
       "      <th>1754</th>\n",
       "      <td>8.469333</td>\n",
       "      <td>3.494250</td>\n",
       "      <td>NaN</td>\n",
       "      <td>NaN</td>\n",
       "      <td>NaN</td>\n",
       "      <td>NaN</td>\n",
       "      <td>NaN</td>\n",
       "      <td>NaN</td>\n",
       "    </tr>\n",
       "    <tr>\n",
       "      <th>...</th>\n",
       "      <td>...</td>\n",
       "      <td>...</td>\n",
       "      <td>...</td>\n",
       "      <td>...</td>\n",
       "      <td>...</td>\n",
       "      <td>...</td>\n",
       "      <td>...</td>\n",
       "      <td>...</td>\n",
       "    </tr>\n",
       "    <tr>\n",
       "      <th>2011</th>\n",
       "      <td>9.516000</td>\n",
       "      <td>0.082000</td>\n",
       "      <td>15.284833</td>\n",
       "      <td>0.114333</td>\n",
       "      <td>3.827667</td>\n",
       "      <td>0.136583</td>\n",
       "      <td>15.769500</td>\n",
       "      <td>0.059000</td>\n",
       "    </tr>\n",
       "    <tr>\n",
       "      <th>2012</th>\n",
       "      <td>9.507333</td>\n",
       "      <td>0.083417</td>\n",
       "      <td>15.332833</td>\n",
       "      <td>0.107333</td>\n",
       "      <td>3.756167</td>\n",
       "      <td>0.145333</td>\n",
       "      <td>15.802333</td>\n",
       "      <td>0.061500</td>\n",
       "    </tr>\n",
       "    <tr>\n",
       "      <th>2013</th>\n",
       "      <td>9.606500</td>\n",
       "      <td>0.097667</td>\n",
       "      <td>15.373833</td>\n",
       "      <td>0.115500</td>\n",
       "      <td>3.911333</td>\n",
       "      <td>0.149833</td>\n",
       "      <td>15.854417</td>\n",
       "      <td>0.064667</td>\n",
       "    </tr>\n",
       "    <tr>\n",
       "      <th>2014</th>\n",
       "      <td>9.570667</td>\n",
       "      <td>0.090167</td>\n",
       "      <td>15.313583</td>\n",
       "      <td>0.111667</td>\n",
       "      <td>3.877750</td>\n",
       "      <td>0.139000</td>\n",
       "      <td>15.913000</td>\n",
       "      <td>0.063167</td>\n",
       "    </tr>\n",
       "    <tr>\n",
       "      <th>2015</th>\n",
       "      <td>9.831000</td>\n",
       "      <td>0.092167</td>\n",
       "      <td>15.572667</td>\n",
       "      <td>0.106500</td>\n",
       "      <td>4.148833</td>\n",
       "      <td>0.141750</td>\n",
       "      <td>16.058583</td>\n",
       "      <td>0.060833</td>\n",
       "    </tr>\n",
       "  </tbody>\n",
       "</table>\n",
       "<p>266 rows × 8 columns</p>\n",
       "</div>"
      ],
      "text/plain": [
       "      LandAverageTemperature  LandAverageTemperatureUncertainty  \\\n",
       "dt                                                                \n",
       "1750                8.719364                           2.637818   \n",
       "1751                7.976143                           2.781143   \n",
       "1752                5.779833                           2.977000   \n",
       "1753                8.388083                           3.176000   \n",
       "1754                8.469333                           3.494250   \n",
       "...                      ...                                ...   \n",
       "2011                9.516000                           0.082000   \n",
       "2012                9.507333                           0.083417   \n",
       "2013                9.606500                           0.097667   \n",
       "2014                9.570667                           0.090167   \n",
       "2015                9.831000                           0.092167   \n",
       "\n",
       "      LandMaxTemperature  LandMaxTemperatureUncertainty  LandMinTemperature  \\\n",
       "dt                                                                            \n",
       "1750                 NaN                            NaN                 NaN   \n",
       "1751                 NaN                            NaN                 NaN   \n",
       "1752                 NaN                            NaN                 NaN   \n",
       "1753                 NaN                            NaN                 NaN   \n",
       "1754                 NaN                            NaN                 NaN   \n",
       "...                  ...                            ...                 ...   \n",
       "2011           15.284833                       0.114333            3.827667   \n",
       "2012           15.332833                       0.107333            3.756167   \n",
       "2013           15.373833                       0.115500            3.911333   \n",
       "2014           15.313583                       0.111667            3.877750   \n",
       "2015           15.572667                       0.106500            4.148833   \n",
       "\n",
       "      LandMinTemperatureUncertainty  LandAndOceanAverageTemperature  \\\n",
       "dt                                                                    \n",
       "1750                            NaN                             NaN   \n",
       "1751                            NaN                             NaN   \n",
       "1752                            NaN                             NaN   \n",
       "1753                            NaN                             NaN   \n",
       "1754                            NaN                             NaN   \n",
       "...                             ...                             ...   \n",
       "2011                       0.136583                       15.769500   \n",
       "2012                       0.145333                       15.802333   \n",
       "2013                       0.149833                       15.854417   \n",
       "2014                       0.139000                       15.913000   \n",
       "2015                       0.141750                       16.058583   \n",
       "\n",
       "      LandAndOceanAverageTemperatureUncertainty  \n",
       "dt                                               \n",
       "1750                                        NaN  \n",
       "1751                                        NaN  \n",
       "1752                                        NaN  \n",
       "1753                                        NaN  \n",
       "1754                                        NaN  \n",
       "...                                         ...  \n",
       "2011                                   0.059000  \n",
       "2012                                   0.061500  \n",
       "2013                                   0.064667  \n",
       "2014                                   0.063167  \n",
       "2015                                   0.060833  \n",
       "\n",
       "[266 rows x 8 columns]"
      ]
     },
     "metadata": {},
     "output_type": "display_data"
    },
    {
     "data": {
      "text/plain": [
       "[<matplotlib.lines.Line2D at 0x158f964f0>]"
      ]
     },
     "execution_count": 5,
     "metadata": {},
     "output_type": "execute_result"
    },
    {
     "data": {
      "image/png": "[encoded data removed]",
      "text/plain": [
       "<Figure size 432x288 with 1 Axes>"
      ]
     },
     "metadata": {
      "needs_background": "light"
     },
     "output_type": "display_data"
    }
   ],
   "source": [
    "# Step 5. Average the temperature every year and look at the results\n",
    "#\n",
    "# The seasonal changes in temperature is confusing.\n",
    "# Let's try to average them out by using pandas' \"groupby()\" function.\n",
    "# What method do we need to call to compute the mean?\n",
    "\n",
    "ym = df.groupby(by=df.dt.dt.year).________\n",
    "\n",
    "# Look at the output as a table\n",
    "display(ym)\n",
    "\n",
    "# Visualize the temperture\n",
    "plt.plot(ym.index, ym.LandAverageTemperature)"
   ]
  },
  {
   "cell_type": "code",
   "execution_count": 6,
   "id": "supported-treasure",
   "metadata": {},
   "outputs": [
    {
     "name": "stdout",
     "output_type": "stream",
     "text": [
      "[1.88685961e+03 8.00323688e+00 1.84937214e-01 5.80798543e+01]\n"
     ]
    },
    {
     "name": "stderr",
     "output_type": "stream",
     "text": [
      "<ipython-input-6-6c4636454f10>:5: RuntimeWarning: overflow encountered in exp\n",
      "  return m + a * np.exp((t - t0) / x)\n"
     ]
    }
   ],
   "source": [
    "# Step 6. Fit a model to the global temperature changes\n",
    "\n",
    "# Construct a model\n",
    "def func(________):\n",
    "    return ________\n",
    "\n",
    "popt, pcov = curve_fit(________)\n",
    "\n",
    "# This contains the fitted parameters\n",
    "print(popt)"
   ]
  },
  {
   "cell_type": "code",
   "execution_count": 7,
   "id": "spatial-support",
   "metadata": {},
   "outputs": [
    {
     "data": {
      "text/plain": [
       "[<matplotlib.lines.Line2D at 0x159067d00>]"
      ]
     },
     "execution_count": 7,
     "metadata": {},
     "output_type": "execute_result"
    },
    {
     "data": {
      "image/png": "[encoded data removed]",
      "text/plain": [
       "<Figure size 432x288 with 1 Axes>"
      ]
     },
     "metadata": {
      "needs_background": "light"
     },
     "output_type": "display_data"
    }
   ],
   "source": [
    "# Step 7. Overplot the model to the data.\n",
    "\n",
    "plt.plot(ym.index, ym.LandAverageTemperature)\n",
    "plt.plot(ym.index, func(ym.index, *popt))"
   ]
  },
  {
   "cell_type": "code",
   "execution_count": null,
   "id": "civil-specification",
   "metadata": {},
   "outputs": [],
   "source": []
  }
 ],
 "metadata": {
  "kernelspec": {
   "display_name": "Python 3 (ipykernel)",
   "language": "python",
   "name": "python3"
  },
  "language_info": {
   "codemirror_mode": {
    "name": "ipython",
    "version": 3
   },
   "file_extension": ".py",
   "mimetype": "text/x-python",
   "name": "python",
   "nbconvert_exporter": "python",
   "pygments_lexer": "ipython3",
   "version": "3.9.10"
  }
 },
 "nbformat": 4,
 "nbformat_minor": 5
}
